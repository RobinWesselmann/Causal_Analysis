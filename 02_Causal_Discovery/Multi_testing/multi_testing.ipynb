{
 "cells": [
  {
   "cell_type": "code",
   "execution_count": 2,
   "id": "98815404",
   "metadata": {},
   "outputs": [],
   "source": [
    "import pandas as pd\n",
    "import numpy as np\n",
    "import matplotlib.pyplot as plt\n",
    "\n",
    "import statsmodels.api as sm\n",
    "from ISLP import load_data"
   ]
  },
  {
   "cell_type": "code",
   "execution_count": 3,
   "id": "03554a8f",
   "metadata": {},
   "outputs": [],
   "source": [
    "from scipy.stats import (ttest_1samp, ttest_rel, ttest_ind, t as t_dbn)\n",
    "from statsmodels.stats.multicomp import pairwise_tukeyhsd\n",
    "from statsmodels.stats.multitest import multipletests as mult_test"
   ]
  },
  {
   "cell_type": "markdown",
   "id": "d3f374c2",
   "metadata": {},
   "source": [
    "# Creation sample data"
   ]
  },
  {
   "cell_type": "code",
   "execution_count": 4,
   "id": "87f81790",
   "metadata": {},
   "outputs": [],
   "source": [
    "rng = np.random.default_rng(12)\n",
    "X = rng.standard_normal((10, 100))\n",
    "true_mean = np.array([0.5] * 50 + [0] * 50)\n",
    "X += true_mean[None, :]"
   ]
  },
  {
   "cell_type": "code",
   "execution_count": 10,
   "id": "cac23f8c",
   "metadata": {},
   "outputs": [
    {
     "data": {
      "text/plain": [
       "array([[ 4.93173220e-01,  1.54614329e+00,  1.24158842e+00,\n",
       "         1.22395654e+00,  2.11877622e+00, -7.05558143e-01,\n",
       "        -1.26955471e-01, -8.20663212e-01,  3.92247492e-01,\n",
       "         1.49876366e+00,  4.78052114e-01,  9.95880066e-01,\n",
       "        -1.41076866e+00,  6.47064166e-01, -4.06943251e-01,\n",
       "         2.27538939e+00,  1.38684908e+00,  1.44934948e+00,\n",
       "         4.42145037e-01,  1.11286227e+00,  1.15789016e+00,\n",
       "         1.55597334e-01,  2.62796450e-03,  3.85227217e-01,\n",
       "        -1.05452009e-01, -9.43394175e-02,  2.16624624e-01,\n",
       "        -2.28417727e-01,  1.26632779e+00, -1.09608633e+00,\n",
       "         1.32356213e+00, -1.25566470e-01, -4.59399557e-02,\n",
       "        -8.50847142e-01,  3.55757881e-01,  2.52338491e-01,\n",
       "         6.91455831e-01, -3.37742959e-02,  5.93756179e-01,\n",
       "         2.31969184e+00,  9.08999694e-01, -7.36900372e-02,\n",
       "         1.45310960e+00,  3.71198866e-01,  1.09387447e+00,\n",
       "         1.11274743e+00,  1.08934283e-01, -1.43028750e+00,\n",
       "         1.52346377e-01,  1.05145542e+00, -3.80110407e-01,\n",
       "         4.38969315e-01,  9.79540372e-01, -5.44113415e-01,\n",
       "         1.23135175e+00,  1.62180446e+00,  1.07904594e+00,\n",
       "         1.16546284e+00,  1.09679645e+00,  2.25453906e+00,\n",
       "         1.85860905e-01,  2.08408285e-03,  6.03107305e-01,\n",
       "        -9.08195119e-01, -1.55317676e+00, -8.82007973e-01,\n",
       "         3.72565350e-01,  4.73053341e-01, -1.53635872e+00,\n",
       "        -1.88346371e+00, -3.16142243e-01, -1.88056516e-01,\n",
       "        -4.92008330e-02,  6.71362447e-01,  1.22883418e+00,\n",
       "         2.30896430e-01,  6.12684704e-01, -1.09520169e+00,\n",
       "        -1.17630801e+00,  2.36238334e-01,  6.64663103e-01,\n",
       "         7.26243456e-01,  5.92741991e-01,  7.84173709e-01,\n",
       "         8.09828030e-01, -1.75218536e+00, -7.34165769e-01,\n",
       "         4.55159742e-01,  5.96671965e-01, -1.51209241e+00,\n",
       "         1.17306137e+00, -4.38831924e-01, -2.32424749e-01,\n",
       "         2.73818645e-01,  7.49635232e-01, -1.43311699e+00,\n",
       "         9.89912577e-01,  7.72934677e-02, -7.70813495e-01,\n",
       "        -2.75273142e-01],\n",
       "       [-1.68583835e+00, -1.47618525e-01,  6.81909651e-01,\n",
       "        -2.09050475e-01,  1.71987138e-01,  3.53237632e-01,\n",
       "         5.48380893e-01,  1.52063667e+00,  4.75104220e-01,\n",
       "         2.40032064e-01,  1.03864522e+00,  2.57661706e+00,\n",
       "         1.57252324e-01,  1.01286725e+00, -1.07730495e+00,\n",
       "         1.84549387e+00,  1.15938351e+00,  1.83279967e+00,\n",
       "         4.40939744e-01, -5.42815564e-01,  1.38609891e+00,\n",
       "         1.25353351e+00, -3.67038898e-01, -9.72935108e-01,\n",
       "         9.49132114e-01,  3.28608006e-01,  3.11216589e+00,\n",
       "        -1.14246452e-01, -2.85622736e-02,  3.89235738e-01,\n",
       "        -1.16505725e+00, -3.89087029e-01,  2.14436270e+00,\n",
       "         3.68622577e-01, -1.08388578e-01, -7.71897992e-01,\n",
       "         1.08048313e+00,  1.15829765e+00,  7.56454363e-01,\n",
       "         1.10798712e-01,  8.05538013e-01,  8.81589180e-01,\n",
       "        -1.80884660e-01,  1.12233251e+00, -1.61535625e+00,\n",
       "        -7.89025693e-01,  1.96082805e-01,  3.91500909e-01,\n",
       "        -6.64275413e-01,  8.28721973e-01,  1.05560573e+00,\n",
       "         4.51049448e-01,  2.24529222e-01,  8.28238165e-01,\n",
       "         4.04447143e-01, -1.14238387e+00, -2.02563444e-01,\n",
       "         1.29132773e+00, -1.13748542e+00,  6.22968731e-02,\n",
       "        -3.89123844e-01, -8.98010701e-01, -1.01152816e+00,\n",
       "         1.01021174e-01,  3.15349767e-01,  3.09018831e-01,\n",
       "        -1.44604417e+00, -2.88740904e-01,  3.45719395e-01,\n",
       "         9.46807709e-01,  6.72508121e-01,  8.31619981e-01,\n",
       "         1.09713675e+00,  8.23921861e-01, -8.15203408e-01,\n",
       "         5.80407951e-02, -7.13138584e-01, -2.38147453e+00,\n",
       "        -1.68088928e+00,  2.08891848e+00, -1.11729543e+00,\n",
       "        -2.24210352e+00, -5.84849871e-01,  1.52029173e+00,\n",
       "        -4.49577108e-02,  4.08083302e-01, -2.70317080e-01,\n",
       "        -8.32290254e-02,  1.26664783e+00,  7.95991863e-01,\n",
       "        -8.62515588e-02,  8.91619971e-01,  1.07446686e+00,\n",
       "        -2.19166022e-01,  2.69983412e-01,  2.54124470e-01,\n",
       "        -6.68296204e-01,  1.15087936e+00, -1.67051652e-01,\n",
       "        -6.19469336e-01],\n",
       "       [-1.17579583e+00, -7.65401980e-01,  2.02542347e+00,\n",
       "        -6.40063396e-01,  9.29554743e-01,  1.32853917e-01,\n",
       "         1.01132775e+00,  1.10229717e+00, -2.76284816e-01,\n",
       "         2.08135069e-01,  5.99356149e-01,  6.14547752e-01,\n",
       "         4.71490174e-01,  1.86732768e-01,  1.12940915e+00,\n",
       "         1.81710219e+00,  1.04050497e+00, -2.40139540e-01,\n",
       "         8.95948690e-01,  5.61104153e-01,  9.61628660e-01,\n",
       "         2.34484304e+00,  2.86046682e-01,  4.88498033e-01,\n",
       "        -3.86627638e-01,  2.11051374e-01, -6.91503665e-02,\n",
       "         2.09983162e+00,  8.03974476e-01, -7.19179698e-02,\n",
       "         2.42946911e+00, -8.28140470e-01,  1.36126159e+00,\n",
       "         1.51624415e+00,  1.07394615e+00,  2.38847809e-01,\n",
       "         3.70605032e-01,  1.56545660e-01,  1.28607430e+00,\n",
       "        -1.82892260e+00, -1.12422691e-02,  6.51944209e-01,\n",
       "        -8.11653801e-02, -1.31759107e+00,  2.57171217e-01,\n",
       "        -2.55166846e-01,  1.30026742e+00,  1.89740376e+00,\n",
       "         5.69380223e-01, -1.43412659e+00, -1.96191394e-01,\n",
       "        -9.24127534e-01,  6.82015530e-01,  1.69145766e+00,\n",
       "         3.17426978e-01,  2.03524940e+00,  1.51455567e+00,\n",
       "         6.96529541e-01, -8.60248195e-01,  2.08887953e-01,\n",
       "        -1.33918901e+00,  1.15094618e+00,  2.38732685e-01,\n",
       "         1.49886665e+00,  4.20232792e-01, -1.80427805e+00,\n",
       "         7.87675409e-01,  1.07448408e+00,  1.80921477e+00,\n",
       "        -8.25804982e-01, -7.75657553e-01,  2.11908571e-01,\n",
       "        -9.08526485e-01, -1.23173294e+00, -9.52595895e-01,\n",
       "         2.72968428e+00, -4.99410703e-01, -8.91026157e-01,\n",
       "        -3.31796157e-01,  1.12569776e-01,  1.39730970e+00,\n",
       "         1.05007855e+00,  8.92165882e-01,  1.47165598e-01,\n",
       "         2.59075061e-01, -5.36198750e-01, -1.40425059e+00,\n",
       "         2.13934939e+00, -3.56373536e-01,  1.11245447e+00,\n",
       "        -2.17965713e-01,  6.84559037e-03, -5.69435512e-02,\n",
       "        -1.28136286e+00,  1.69558287e-02,  4.75261608e-01,\n",
       "         9.22638035e-01,  5.86965339e-01,  1.11220773e+00,\n",
       "         3.85681714e-01],\n",
       "       [ 5.84438698e-01, -1.37804951e+00,  5.12165165e-02,\n",
       "         2.14024025e+00,  7.07698279e-01,  1.38232524e+00,\n",
       "         3.73048321e-01, -8.89980424e-02,  2.63220246e+00,\n",
       "         9.42274756e-01,  2.07922798e+00,  1.11472036e+00,\n",
       "         2.88823657e-01, -1.66097341e+00,  6.74261578e-01,\n",
       "        -9.84078917e-01, -1.63900930e+00,  1.82319445e+00,\n",
       "         1.30468852e+00,  1.22386416e+00,  6.30701911e-01,\n",
       "         5.44714075e-01,  1.00390886e+00,  7.35955717e-01,\n",
       "         6.51067493e-01,  1.32053657e+00, -1.88042754e+00,\n",
       "         1.47096319e+00, -5.69902353e-02,  1.43040915e+00,\n",
       "         1.74880528e+00, -2.72972244e-01,  1.36118329e+00,\n",
       "         1.34546136e+00, -1.57013295e-01,  1.04210451e-02,\n",
       "         6.46851913e-01, -1.70225977e+00,  7.44496640e-02,\n",
       "         7.04661024e-01,  6.78041124e-02, -1.08704982e+00,\n",
       "         1.20316278e-01,  2.02821906e+00,  1.83646448e+00,\n",
       "         3.89614693e-01, -2.97892053e-01,  4.91244303e-01,\n",
       "         5.21638366e-01, -1.72070911e-01, -3.30053838e-01,\n",
       "         6.29291653e-01,  9.40305425e-01, -2.43636310e+00,\n",
       "         9.82769355e-01,  1.40268481e-01,  1.15548821e+00,\n",
       "        -1.54013632e-02,  4.44694351e-01,  1.64555477e+00,\n",
       "        -2.96783016e+00,  1.59549860e+00,  1.93927171e-01,\n",
       "        -1.82035471e+00, -2.66518928e+00,  3.15325253e-01,\n",
       "        -1.02554296e+00,  1.00734795e+00,  2.18488923e-01,\n",
       "        -1.31217174e-01,  9.97763822e-01,  1.96326193e-01,\n",
       "         7.45218381e-01,  8.35022356e-01,  3.24145250e-01,\n",
       "         7.92357950e-01,  7.91043998e-01, -1.36736188e+00,\n",
       "        -2.71683285e-01, -1.19088397e-01, -3.76790448e-01,\n",
       "        -1.58741460e+00, -5.66339949e-01,  3.40384817e-01,\n",
       "         1.93910728e-01,  1.52538455e+00, -6.05577979e-01,\n",
       "        -4.31630073e-01, -5.71956168e-01, -3.15204252e-01,\n",
       "        -6.02943113e-01, -1.87042466e+00,  3.46092214e-01,\n",
       "         9.89977477e-01,  1.12154869e+00, -1.08640247e+00,\n",
       "        -1.92433218e-01,  1.85079455e+00, -1.07180418e-01,\n",
       "         3.49317490e-01],\n",
       "       [ 3.48387592e-01,  1.50685712e+00,  1.46906189e+00,\n",
       "         2.82834423e+00,  1.00004490e+00,  9.49553389e-01,\n",
       "        -7.12639971e-01,  9.05496529e-02, -2.01749937e-01,\n",
       "         1.71790136e-01, -8.10865562e-01,  1.71700633e+00,\n",
       "        -5.53663322e-01,  7.73645876e-01, -7.59912470e-01,\n",
       "         8.47284972e-01,  2.15815615e+00, -3.19952264e-01,\n",
       "         8.65102590e-01,  4.33234502e-01,  7.83898190e-01,\n",
       "         9.20824649e-01, -1.35512532e-01,  3.20166519e-01,\n",
       "        -8.90219284e-02, -3.24651536e-01, -7.28203865e-01,\n",
       "         1.46542534e+00, -2.38112555e-01,  1.16587280e+00,\n",
       "         1.05528749e+00, -4.98528610e-01,  1.54846034e+00,\n",
       "        -3.60573958e-01,  1.12887269e+00,  1.95810912e+00,\n",
       "        -2.15366969e-01, -4.28908980e-01, -4.42596356e-01,\n",
       "         2.79693123e+00,  1.24422774e-01, -7.65101819e-01,\n",
       "         1.31407429e+00,  3.20938264e-01,  4.63803547e-01,\n",
       "        -5.01160751e-01, -1.73040978e+00, -2.36853250e-01,\n",
       "        -5.53455361e-01, -1.12872728e+00, -1.09600857e+00,\n",
       "        -9.58437926e-01,  7.94884873e-01,  6.95710199e-01,\n",
       "         5.05445447e-01, -5.44717680e-01, -1.27005742e+00,\n",
       "         2.86284912e-01,  4.48778904e-01,  9.91505505e-01,\n",
       "        -3.85351261e-02, -1.40543526e-01,  2.97857467e-01,\n",
       "        -9.38149129e-01, -8.15491575e-01,  6.31096765e-01,\n",
       "        -1.27023916e+00, -8.99445473e-02,  7.72599557e-01,\n",
       "         2.27723877e-01,  4.22250215e-01, -1.11630362e+00,\n",
       "        -1.30387856e-01, -2.75528330e-01,  5.99663453e-01,\n",
       "         4.17662183e-01,  3.00231270e-02,  1.90389105e+00,\n",
       "         5.49006489e-01, -2.79000475e-01, -6.03475785e-01,\n",
       "        -2.49534998e-02, -5.58054986e-01,  1.65070906e+00,\n",
       "         5.84670159e-01, -2.92516123e-01, -6.36340253e-01,\n",
       "        -1.05305105e+00, -2.54717282e-01,  1.33298878e+00,\n",
       "         8.63480001e-01, -3.11184022e-02,  1.65434843e-01,\n",
       "        -1.83818577e+00,  7.87390851e-01, -1.92602766e-01,\n",
       "         1.40410263e+00, -1.49101896e-01, -4.53822519e-01,\n",
       "         2.46519666e-01],\n",
       "       [-1.04183934e-01,  1.87696835e+00,  8.22497670e-01,\n",
       "         9.05113157e-01,  8.73556980e-01,  1.88100094e-01,\n",
       "         1.02375291e+00,  7.18335350e-01,  2.30160033e+00,\n",
       "         6.08376275e-01,  9.23688929e-01,  9.55653825e-02,\n",
       "         1.83285599e-01,  2.53847088e-01,  1.85842503e+00,\n",
       "         6.52379027e-01,  1.54792531e+00,  3.18132492e-01,\n",
       "         2.18488941e-01, -1.34085708e+00,  1.41552336e+00,\n",
       "         2.64931674e+00,  3.62147504e-01,  2.02689517e+00,\n",
       "         1.44367376e+00, -8.98204349e-02,  1.35963987e+00,\n",
       "        -3.00211741e-01,  2.97706424e-01,  1.81849130e+00,\n",
       "         7.58721586e-01, -5.72231824e-01,  2.01297155e+00,\n",
       "        -4.98700915e-01,  4.38627025e-01,  2.54172525e-01,\n",
       "         4.38589764e-01, -2.51000831e-01, -1.03463988e+00,\n",
       "         2.45400819e+00, -3.46563514e-01, -2.85310708e-01,\n",
       "        -1.83943897e+00,  6.87218655e-01,  1.88681838e+00,\n",
       "         1.99747340e+00,  3.36234492e+00,  2.09830448e+00,\n",
       "         1.00998338e+00,  6.29537834e-01,  1.53788705e+00,\n",
       "         7.01128453e-02,  3.04010874e-01, -8.51283618e-01,\n",
       "         2.06299816e-01,  2.07847359e+00,  3.42593751e-02,\n",
       "         5.03280248e-01, -2.29796309e+00,  1.44912542e+00,\n",
       "         4.76202621e-01,  1.51060323e+00,  3.39879082e-01,\n",
       "        -7.56550427e-01, -1.26986028e+00,  5.87589019e-01,\n",
       "         5.40284196e-02, -8.98736118e-01,  3.10423554e-03,\n",
       "        -5.71701415e-01,  7.73259404e-01, -3.60822656e-01,\n",
       "        -1.17962085e+00, -5.06541387e-02, -5.29624261e-01,\n",
       "         1.49766994e+00, -4.47028261e-01, -1.30586395e+00,\n",
       "        -5.32837296e-02, -2.58801224e-01,  2.58771336e-01,\n",
       "         1.99764567e-01, -1.05078241e+00, -7.78680010e-02,\n",
       "        -1.34005424e-01, -1.23105544e+00, -6.08701318e-01,\n",
       "         1.58982445e-01, -1.63676527e+00, -1.13385299e+00,\n",
       "        -5.22903234e-01, -1.53843229e-01,  4.43790654e-01,\n",
       "        -1.42763788e+00,  2.22620958e-01,  5.44665776e-01,\n",
       "         1.46277859e+00, -5.01392614e-01, -9.98372377e-01,\n",
       "        -1.61651055e+00],\n",
       "       [ 9.67242183e-01,  1.70328938e+00, -2.70138055e-01,\n",
       "         8.64002171e-01,  1.28675565e+00,  1.38779455e+00,\n",
       "         4.23529580e-02,  1.09489333e+00,  4.13867048e-01,\n",
       "        -4.71856021e-01,  7.43968953e-01,  8.50510182e-01,\n",
       "        -4.64455573e-01,  9.46004203e-01,  2.50017700e+00,\n",
       "        -9.85164229e-01,  1.21568518e+00,  1.42943185e+00,\n",
       "         5.69249215e-01,  8.44771811e-01,  2.54177935e-01,\n",
       "         1.86959824e+00, -4.26227250e-01,  3.70935644e-01,\n",
       "        -1.43497127e+00,  8.20617648e-01,  8.66251983e-01,\n",
       "        -1.18336750e+00, -3.85236210e-01,  9.56737989e-01,\n",
       "        -1.42275119e-02, -7.39005663e-01, -2.03290238e+00,\n",
       "         8.07402313e-01,  2.39400675e+00, -3.85542239e-03,\n",
       "         8.86272122e-01,  8.68424404e-01,  3.64277978e-01,\n",
       "         5.44304110e-01,  5.61868737e-01, -4.24030963e-01,\n",
       "         2.94355241e+00,  3.16679427e+00,  7.58178653e-01,\n",
       "         2.23434307e+00, -3.72839561e-01,  2.21256400e-01,\n",
       "         1.58089462e+00, -7.03035460e-01, -1.35270202e+00,\n",
       "         2.92980369e-01, -2.02781761e+00,  1.67776070e+00,\n",
       "         7.07541738e-01,  2.07941469e-01,  6.39478155e-01,\n",
       "        -9.34834866e-01, -9.64313042e-01,  8.15020145e-01,\n",
       "         9.22928533e-01,  1.30095781e-01, -5.85695382e-02,\n",
       "        -5.46923620e-01,  1.38637615e+00, -1.49139147e+00,\n",
       "        -8.63581225e-01, -5.43798168e-01, -1.53281134e+00,\n",
       "        -1.33196234e+00, -1.03339949e+00,  1.00994867e+00,\n",
       "         1.80320911e+00,  3.48555936e-01, -1.62079026e+00,\n",
       "        -6.07079312e-01, -1.36505373e-01, -2.68948237e-01,\n",
       "        -3.71060384e-01,  5.16706734e-01, -1.94332564e+00,\n",
       "        -5.75118455e-01,  2.17019328e-01,  7.19479888e-01,\n",
       "         2.91288204e-01,  2.72750855e-02, -1.27978461e-01,\n",
       "        -6.53510982e-01,  1.03799752e-01, -1.86028838e-01,\n",
       "        -6.83153367e-01,  1.22753451e+00,  1.21330126e+00,\n",
       "        -3.43110052e-01,  6.47899569e-01,  1.23038702e+00,\n",
       "         3.01012999e-01,  1.63192227e-01,  5.33564052e-01,\n",
       "        -1.60944015e+00],\n",
       "       [-8.88628362e-01,  1.06418368e+00,  8.17986512e-01,\n",
       "         1.91075514e+00,  4.87112336e-02,  1.64330277e+00,\n",
       "         1.60526472e+00,  2.51708420e+00, -2.53737037e-01,\n",
       "         1.94177125e-01,  8.24324385e-01,  8.15433704e-01,\n",
       "        -4.46397046e-01, -1.78493738e-02, -7.50314233e-01,\n",
       "         2.85825785e+00,  4.85339951e-01,  5.41796049e-01,\n",
       "        -6.13086848e-02,  5.77344361e-01,  1.33963285e+00,\n",
       "         2.20726954e-01,  5.22781089e-01,  2.72164763e+00,\n",
       "         1.47408003e+00,  7.88277206e-01,  1.30558956e-01,\n",
       "         5.28701514e-01, -1.91087072e-01,  8.21329624e-01,\n",
       "        -1.22902483e-01, -1.81109700e-01,  1.34299907e-01,\n",
       "        -5.32060650e-01,  7.29023353e-01,  3.04422704e+00,\n",
       "        -9.66071568e-02, -1.13608535e+00,  1.47338055e+00,\n",
       "         4.07665644e-01,  2.48339787e+00,  8.82835860e-01,\n",
       "         1.42716260e+00, -2.79952996e-01, -1.10182546e+00,\n",
       "         3.02008119e-01,  1.14648035e+00, -3.83360561e-01,\n",
       "        -1.11602537e+00, -1.25659810e-01, -4.79347613e-01,\n",
       "        -3.67589066e-01, -7.66344200e-02,  2.34050799e+00,\n",
       "        -2.08078885e-02, -5.48491613e-01, -1.13727400e+00,\n",
       "         7.40877923e-01, -1.63766457e+00,  1.38276811e+00,\n",
       "        -6.92056304e-02, -1.56255900e+00,  1.19004285e-01,\n",
       "        -1.80238329e-01,  1.15599032e+00, -1.56238068e+00,\n",
       "         1.33091855e-01, -8.59895170e-02,  8.45573437e-01,\n",
       "        -1.20406664e+00, -8.48261339e-01,  1.88926771e+00,\n",
       "         4.81638219e-01, -1.54631676e+00,  2.49780179e-01,\n",
       "        -8.60201548e-01, -7.61801651e-01, -1.29198910e+00,\n",
       "         9.04683589e-01, -6.11857673e-01,  1.20993377e-01,\n",
       "        -1.28065388e-03, -1.59144790e+00, -8.18349351e-01,\n",
       "         6.86903302e-01, -1.64097854e+00,  1.69334050e-01,\n",
       "        -1.81825178e-01,  5.66985054e-01,  6.07394735e-01,\n",
       "         7.46785115e-01, -1.56943352e-02,  1.82803536e-01,\n",
       "        -7.75268339e-01, -6.12139451e-01,  8.26604456e-01,\n",
       "        -6.65224411e-01,  9.52884809e-01,  9.28778158e-01,\n",
       "        -8.62302249e-01],\n",
       "       [ 9.92953676e-01, -3.76058909e-01,  7.75080858e-01,\n",
       "        -3.38814256e-01,  7.71576660e-01,  6.06410581e-01,\n",
       "        -5.99468315e-01,  2.48585638e+00,  1.40128770e+00,\n",
       "        -1.15353182e+00,  7.91691850e-01,  2.06000545e-02,\n",
       "         2.49181553e+00,  3.91176975e-01,  8.43678310e-01,\n",
       "         2.70758679e-01,  1.08358293e+00, -8.05071402e-02,\n",
       "        -4.42010606e-01, -4.01186931e-02,  3.39398984e-02,\n",
       "         1.08210757e+00,  5.45021289e-01,  1.50349419e-02,\n",
       "         5.31855962e-02, -4.52987943e-01,  5.88300083e-01,\n",
       "        -1.56782976e+00,  2.39541069e-01,  1.64337523e+00,\n",
       "         1.00791197e-01, -1.90424387e-01,  5.07050356e-01,\n",
       "        -4.65069411e-01, -2.92684646e-01,  1.14646682e+00,\n",
       "        -1.68466055e-01,  2.41748534e+00,  1.00282083e+00,\n",
       "         3.62829656e-01, -1.52059295e-01,  2.09776132e-01,\n",
       "        -1.79822578e+00,  7.09774399e-01,  1.35328093e+00,\n",
       "         1.03756361e+00,  3.60398571e-02,  1.08146183e+00,\n",
       "         1.10417966e+00,  3.36597360e-01,  3.16491913e-01,\n",
       "         1.00375262e+00,  4.24316802e-01, -4.10068182e-01,\n",
       "        -1.92978470e-02,  1.20863287e-01, -1.63135395e+00,\n",
       "         9.88325654e-02, -1.57778897e-01, -2.19318941e+00,\n",
       "        -1.73799100e+00,  1.76701972e+00,  7.32359608e-02,\n",
       "         1.31348182e+00, -4.01901096e-01,  1.50428992e+00,\n",
       "         5.41124086e-01, -7.09279762e-01,  2.52548111e-01,\n",
       "         1.54106548e+00,  2.36477587e+00,  4.93632108e-01,\n",
       "        -4.65788093e-01, -8.82110700e-01,  6.68607035e-01,\n",
       "         1.07695533e+00,  1.28499447e-01, -1.18717451e-01,\n",
       "         8.06987033e-01,  4.79924832e-01,  3.87786992e-01,\n",
       "        -1.53135828e+00, -3.32624805e-01,  1.88392089e+00,\n",
       "        -1.74892936e-02,  2.42507062e+00,  3.86081557e-01,\n",
       "        -2.84306614e-01,  2.83325591e-01,  6.05025956e-01,\n",
       "        -7.18515849e-01,  2.46428186e-01, -4.13898687e-01,\n",
       "         1.45683778e+00, -4.51366276e-01,  1.21493676e-01,\n",
       "        -1.49904188e+00, -1.36289763e+00, -8.90819582e-02,\n",
       "        -9.12798273e-01],\n",
       "       [ 2.07032293e-01,  7.35361384e-01,  1.06088314e+00,\n",
       "        -9.06498503e-01,  3.14766909e-01,  1.16281063e+00,\n",
       "        -1.75556512e-01, -8.01842874e-01, -1.91168858e-01,\n",
       "         2.12498674e+00,  5.19243337e-01,  2.05764857e+00,\n",
       "         1.94034455e-01,  1.69034407e+00, -9.43120735e-01,\n",
       "         2.48264409e-01,  5.88758918e-01,  2.25819178e+00,\n",
       "         9.71646665e-01,  1.62050307e+00,  8.20983291e-02,\n",
       "         8.65662051e-02,  1.77616051e+00,  1.92985812e+00,\n",
       "         1.73154019e+00,  1.70541432e+00, -1.74821987e-02,\n",
       "         2.66159535e+00,  6.76996121e-01,  1.77789655e+00,\n",
       "         1.25738608e+00, -1.24728459e+00, -1.43652151e+00,\n",
       "        -1.09487902e+00,  4.58172660e-01,  1.62470167e+00,\n",
       "         2.59180873e-01,  1.34983647e+00, -7.28864233e-01,\n",
       "        -1.16106690e-01, -3.93204324e-01,  5.37562939e-01,\n",
       "        -6.45376071e-01,  4.02767428e-01,  1.09862593e+00,\n",
       "         4.33666879e-02, -3.89215202e-01,  5.12116525e-02,\n",
       "        -7.17077853e-01, -5.31307832e-01,  8.07737213e-01,\n",
       "         3.44579899e-01, -1.43730925e+00, -2.77677904e-01,\n",
       "         4.58045983e-01,  8.06746922e-01,  6.46201140e-01,\n",
       "         9.86675176e-01, -3.34859493e-02, -1.03243674e-02,\n",
       "        -2.40278565e-01,  1.10559766e+00,  8.64365301e-01,\n",
       "         1.79195537e+00,  1.12918812e+00, -8.04977614e-01,\n",
       "        -1.47042939e+00, -1.38699999e+00, -8.90160234e-01,\n",
       "         6.22135517e-01, -1.39893162e+00, -2.02759549e+00,\n",
       "        -1.80172802e-01,  8.10331847e-01,  7.78364069e-01,\n",
       "         1.66967280e+00, -4.07591140e-02, -5.67654155e-01,\n",
       "        -3.14937471e-01, -1.35095715e+00, -6.87115373e-01,\n",
       "         1.27130834e+00,  2.08705351e+00,  1.25587730e+00,\n",
       "         2.77999620e-01, -2.63723639e-01,  2.23656974e-01,\n",
       "        -1.91599852e+00,  5.53576114e-01,  7.60291062e-01,\n",
       "        -1.60479701e-01, -7.14232999e-03, -1.72889831e+00,\n",
       "         7.60039108e-01,  7.61293159e-01, -2.80390905e+00,\n",
       "        -6.14444201e-01,  3.16064498e-01,  1.64343431e+00,\n",
       "        -8.97066577e-01]])"
      ]
     },
     "execution_count": 10,
     "metadata": {},
     "output_type": "execute_result"
    }
   ],
   "source": [
    "X[:10]"
   ]
  },
  {
   "cell_type": "code",
   "execution_count": 11,
   "id": "3c6680fc",
   "metadata": {},
   "outputs": [
    {
     "data": {
      "text/plain": [
       "(10, 100)"
      ]
     },
     "execution_count": 11,
     "metadata": {},
     "output_type": "execute_result"
    }
   ],
   "source": [
    "X.shape"
   ]
  },
  {
   "cell_type": "markdown",
   "id": "92a09652",
   "metadata": {},
   "source": [
    "* 100 Variables: each consisting of 10 observations\n",
    "* the first 50 variables -> mean = 0.5 and variance = 1\n",
    "* latter 50 variables -> mean = 0 and variance = 1 "
   ]
  },
  {
   "cell_type": "markdown",
   "id": "67751ea6",
   "metadata": {},
   "source": [
    "# Basic hypothesis testing"
   ]
  },
  {
   "cell_type": "markdown",
   "id": "5ff1597b",
   "metadata": {},
   "source": [
    "$H_{0}$: $\\mu_{1}$ = 0 "
   ]
  },
  {
   "cell_type": "markdown",
   "id": "0a2c831d",
   "metadata": {},
   "source": [
    "Null Hypothesis: The first variable has a mean of zero"
   ]
  },
  {
   "cell_type": "code",
   "execution_count": 17,
   "id": "97d2f419",
   "metadata": {},
   "outputs": [
    {
     "data": {
      "image/png": "[encoded data removed]",
      "text/plain": [
       "<Figure size 640x480 with 1 Axes>"
      ]
     },
     "metadata": {},
     "output_type": "display_data"
    }
   ],
   "source": [
    "plt.hist(X[:, 0], edgecolor = \"black\")\n",
    "plt.grid()"
   ]
  },
  {
   "cell_type": "code",
   "execution_count": null,
   "id": "1f7e6dc1",
   "metadata": {},
   "outputs": [],
   "source": [
    "ttest_1samp()"
   ]
  },
  {
   "cell_type": "code",
   "execution_count": 20,
   "id": "5b1b0d2b",
   "metadata": {},
   "outputs": [
    {
     "data": {
      "text/plain": [
       "0.9307442156164141"
      ]
     },
     "execution_count": 20,
     "metadata": {},
     "output_type": "execute_result"
    }
   ],
   "source": [
    "result = ttest_1samp(a = X[:, 0], popmean = 0)\n",
    "result.pvalue"
   ]
  },
  {
   "cell_type": "markdown",
   "id": "f573d07a",
   "metadata": {},
   "source": [
    "The p-value comes out to 0.931, which is not low enough to reject the null hypothesis at level $\\alpha$=0.05. <br>\n",
    "So, a Type II Error has been committed by failing to reject the null hypothesis even if the null hypothesis is false."
   ]
  },
  {
   "cell_type": "markdown",
   "id": "b2d5b8bf",
   "metadata": {},
   "source": [
    "# Multi-Testing"
   ]
  },
  {
   "cell_type": "markdown",
   "id": "1f96ac6f",
   "metadata": {},
   "source": [
    "## First example"
   ]
  },
  {
   "cell_type": "markdown",
   "id": "e33b2c4b",
   "metadata": {},
   "source": [
    "Test of $H_{0,j}$: $\\mu_{j}$ = 0 for $j$ = 1,...,100 <br>\n",
    "100 p-values are computed and then a vector is build containing where the jth p-value is less than or equal to 0.05"
   ]
  },
  {
   "cell_type": "code",
   "execution_count": 21,
   "id": "09a1f744",
   "metadata": {},
   "outputs": [],
   "source": [
    "p_values = np.empty(100)\n",
    "\n",
    "for i in range(100):\n",
    "    p_values[i] = ttest_1samp(a = X[:, i], popmean = 0).pvalue\n",
    "\n",
    "decision = pd.cut(\n",
    "    x = p_values,\n",
    "    bins = [0, 0.05, 1],\n",
    "    labels = [\"Reject H0\", \"Do not reject H0\"]\n",
    ")\n",
    "\n",
    "truth = pd.Categorical(values = (true_mean == 0), \n",
    "                       categories = [True, False],\n",
    "                       ordered=True)"
   ]
  },
  {
   "cell_type": "code",
   "execution_count": 22,
   "id": "942218c6",
   "metadata": {},
   "outputs": [
    {
     "data": {
      "text/plain": [
       "array([0.93074422, 0.15003088, 0.00239732, 0.08583596, 0.00188798,\n",
       "       0.01319842, 0.2412137 , 0.06960788, 0.08142718, 0.1733895 ,\n",
       "       0.01036924, 0.00233592, 0.78249868, 0.16491192, 0.4650882 ,\n",
       "       0.06150682, 0.01981225, 0.01606304, 0.01164038, 0.14570143,\n",
       "       0.00106391, 0.00402719, 0.12489097, 0.04679772, 0.2076589 ,\n",
       "       0.0969096 , 0.41073091, 0.30497068, 0.18878679, 0.01453565,\n",
       "       0.05363416, 0.00148435, 0.24736401, 0.93753362, 0.04064538,\n",
       "       0.06111688, 0.02279336, 0.55318848, 0.24707885, 0.11399264,\n",
       "       0.17014519, 0.81478496, 0.58709653, 0.09439323, 0.1359685 ,\n",
       "       0.11838197, 0.45421099, 0.2438079 , 0.52978157, 0.64817496,\n",
       "       0.96921405, 0.64547339, 0.80804557, 0.56712411, 0.00472933,\n",
       "       0.21329108, 0.81942336, 0.0465359 , 0.1596258 , 0.12758739,\n",
       "       0.19251318, 0.22666569, 0.31395446, 0.90967572, 0.6015339 ,\n",
       "       0.39481423, 0.16703267, 0.58260728, 0.93407113, 0.4708747 ,\n",
       "       0.82082893, 0.79448933, 0.68566211, 0.86569841, 0.98158503,\n",
       "       0.07273914, 0.54707827, 0.06872876, 0.47277585, 0.7801691 ,\n",
       "       0.54665523, 0.48941744, 0.79623456, 0.02323028, 0.0179158 ,\n",
       "       0.75888531, 0.06559009, 0.59206335, 0.83361385, 0.51173176,\n",
       "       0.926601  , 0.95682878, 0.71205398, 0.50905709, 0.08222371,\n",
       "       0.60716262, 0.66582061, 0.30737922, 0.56351736, 0.03581379])"
      ]
     },
     "execution_count": 22,
     "metadata": {},
     "output_type": "execute_result"
    }
   ],
   "source": [
    "p_values"
   ]
  },
  {
   "cell_type": "code",
   "execution_count": 23,
   "id": "772326f5",
   "metadata": {},
   "outputs": [
    {
     "data": {
      "text/plain": [
       "['Do not reject H0', 'Do not reject H0', 'Reject H0', 'Do not reject H0', 'Reject H0', ..., 'Do not reject H0', 'Do not reject H0', 'Do not reject H0', 'Do not reject H0', 'Reject H0']\n",
       "Length: 100\n",
       "Categories (2, object): ['Reject H0' < 'Do not reject H0']"
      ]
     },
     "execution_count": 23,
     "metadata": {},
     "output_type": "execute_result"
    }
   ],
   "source": [
    "decision"
   ]
  },
  {
   "cell_type": "code",
   "execution_count": 26,
   "id": "24650908",
   "metadata": {},
   "outputs": [
    {
     "data": {
      "text/html": [
       "<div>\n",
       "<style scoped>\n",
       "    .dataframe tbody tr th:only-of-type {\n",
       "        vertical-align: middle;\n",
       "    }\n",
       "\n",
       "    .dataframe tbody tr th {\n",
       "        vertical-align: top;\n",
       "    }\n",
       "\n",
       "    .dataframe thead th {\n",
       "        text-align: right;\n",
       "    }\n",
       "</style>\n",
       "<table border=\"1\" class=\"dataframe\">\n",
       "  <thead>\n",
       "    <tr style=\"text-align: right;\">\n",
       "      <th>H0</th>\n",
       "      <th>True</th>\n",
       "      <th>False</th>\n",
       "    </tr>\n",
       "    <tr>\n",
       "      <th>Decision</th>\n",
       "      <th></th>\n",
       "      <th></th>\n",
       "    </tr>\n",
       "  </thead>\n",
       "  <tbody>\n",
       "    <tr>\n",
       "      <th>Reject H0</th>\n",
       "      <td>5</td>\n",
       "      <td>15</td>\n",
       "    </tr>\n",
       "    <tr>\n",
       "      <th>Do not reject H0</th>\n",
       "      <td>45</td>\n",
       "      <td>35</td>\n",
       "    </tr>\n",
       "  </tbody>\n",
       "</table>\n",
       "</div>"
      ],
      "text/plain": [
       "H0                True  False\n",
       "Decision                     \n",
       "Reject H0            5     15\n",
       "Do not reject H0    45     35"
      ]
     },
     "execution_count": 26,
     "metadata": {},
     "output_type": "execute_result"
    }
   ],
   "source": [
    "pd.crosstab(\n",
    "    decision,\n",
    "    truth,\n",
    "    rownames=[\"Decision\"],\n",
    "    colnames=[\"H0\"]\n",
    ")"
   ]
  },
  {
   "attachments": {
    "image.png": {
     "image/png": "[encoded data removed]"
    }
   },
   "cell_type": "markdown",
   "id": "bf5fe1e8",
   "metadata": {},
   "source": [
    "![image.png](attachment:image.png)"
   ]
  },
  {
   "cell_type": "markdown",
   "id": "92061a1c",
   "metadata": {},
   "source": [
    "Where False Discovery rate = V / R (here: 5 / 20)\n",
    "\n",
    "We reject 15 of 50 false null hypotheses, and incorrectly reject 5 of the true null hypotheses. "
   ]
  },
  {
   "cell_type": "markdown",
   "id": "370d0066",
   "metadata": {},
   "source": [
    "## Second Example"
   ]
  },
  {
   "cell_type": "markdown",
   "id": "124b021c",
   "metadata": {},
   "source": [
    "the ratio of the mean to the std dev was only 0.5 / 1 = 0.5 in the above simulation. <br>\n",
    "This amount is quite weak and it resulted in a high number of Type II errors. <br>\n",
    "Now, a stronger signal is simulated:"
   ]
  },
  {
   "cell_type": "code",
   "execution_count": 28,
   "id": "82f6ee22",
   "metadata": {},
   "outputs": [
    {
     "data": {
      "text/html": [
       "<div>\n",
       "<style scoped>\n",
       "    .dataframe tbody tr th:only-of-type {\n",
       "        vertical-align: middle;\n",
       "    }\n",
       "\n",
       "    .dataframe tbody tr th {\n",
       "        vertical-align: top;\n",
       "    }\n",
       "\n",
       "    .dataframe thead th {\n",
       "        text-align: right;\n",
       "    }\n",
       "</style>\n",
       "<table border=\"1\" class=\"dataframe\">\n",
       "  <thead>\n",
       "    <tr style=\"text-align: right;\">\n",
       "      <th>H0</th>\n",
       "      <th>True</th>\n",
       "      <th>False</th>\n",
       "    </tr>\n",
       "    <tr>\n",
       "      <th>Decision</th>\n",
       "      <th></th>\n",
       "      <th></th>\n",
       "    </tr>\n",
       "  </thead>\n",
       "  <tbody>\n",
       "    <tr>\n",
       "      <th>Reject H0</th>\n",
       "      <td>2</td>\n",
       "      <td>40</td>\n",
       "    </tr>\n",
       "    <tr>\n",
       "      <th>Do not reject H0</th>\n",
       "      <td>48</td>\n",
       "      <td>10</td>\n",
       "    </tr>\n",
       "  </tbody>\n",
       "</table>\n",
       "</div>"
      ],
      "text/plain": [
       "H0                True  False\n",
       "Decision                     \n",
       "Reject H0            2     40\n",
       "Do not reject H0    48     10"
      ]
     },
     "execution_count": 28,
     "metadata": {},
     "output_type": "execute_result"
    }
   ],
   "source": [
    "true_mean = np.array([1] * 50 + [0] * 50)\n",
    "X = rng.standard_normal((10, 100))\n",
    "X += true_mean[None, :]\n",
    "\n",
    "for i in range(100):\n",
    "    p_values[i] = ttest_1samp(X[:, i], 0).pvalue\n",
    "\n",
    "decision = pd.cut(\n",
    "    x = p_values,\n",
    "    bins = [0, 0.05, 1],\n",
    "    labels = [\"Reject H0\", \"Do not reject H0\"]\n",
    ")\n",
    "\n",
    "truth = pd.Categorical(values = (true_mean == 0),\n",
    "                       categories = [True, False],\n",
    "                       ordered=True)\n",
    "\n",
    "pd.crosstab(\n",
    "    decision,\n",
    "    truth,\n",
    "    rownames=[\"Decision\"],\n",
    "    colnames=[\"H0\"]\n",
    ")"
   ]
  },
  {
   "cell_type": "markdown",
   "id": "b2e7c092",
   "metadata": {},
   "source": [
    "we stil do 2 / 50 False Positives"
   ]
  },
  {
   "cell_type": "markdown",
   "id": "493047ee",
   "metadata": {},
   "source": [
    "# Family-Wise Error Rate"
   ]
  },
  {
   "cell_type": "markdown",
   "id": "946e2b10",
   "metadata": {},
   "source": [
    "if from above for m independent hypothesis test the null hypothesis holds, then the FWER (Family-wise error rate) is 1-(1-$\\alpha$)$^{m}$ <br>\n",
    "with this expression, it's possible to compute FWER for $m=1, ... , 500$ and $\\alpha$=0.05, 0.01, 0.001"
   ]
  },
  {
   "cell_type": "code",
   "execution_count": 31,
   "id": "e0e3d16b",
   "metadata": {},
   "outputs": [
    {
     "data": {
      "image/png": "[encoded data removed]",
      "text/plain": [
       "<Figure size 640x480 with 1 Axes>"
      ]
     },
     "metadata": {},
     "output_type": "display_data"
    }
   ],
   "source": [
    "m = np.linspace(1, 501)\n",
    "fig, ax = plt.subplots(1,1)\n",
    "\n",
    "[ax.plot(m,\n",
    "        1-(1-alpha)**m,\n",
    "        label = r\"$\\alpha=%s$\" % str(alpha))\n",
    "        for alpha in [0.05, 0.01, 0.001]]\n",
    "\n",
    "ax.set_xscale(\"log\")\n",
    "ax.set_xlabel(\"number of hypotheses\")\n",
    "ax.set_ylabel(\"Family-wise Error Rate\")\n",
    "ax.legend()\n",
    "ax.axhline(0.05, c=\"k\", ls = \"--\");"
   ]
  },
  {
   "cell_type": "markdown",
   "id": "561aaf08",
   "metadata": {},
   "source": [
    "These curves describe the probability to result with the test setup in false positives <br>\n",
    "\n",
    "As discussed previously, even for moderate values of $m$ such as 50, the FWER exceeds 0.05 unless $\\alpha$ is set to a very low value (such as 0.001). Of course, the problem with setting $\\alpha$ to such a low value is that we ware likely to make a number of type II errors: in other words, our power is very low."
   ]
  },
  {
   "cell_type": "markdown",
   "id": "5d23f5dc",
   "metadata": {},
   "source": [
    "# T-test on the Fund Dataset"
   ]
  },
  {
   "cell_type": "markdown",
   "id": "8e2c46db",
   "metadata": {},
   "source": [
    "$H_{0,j}$: $\\mu_{j}$=0 <br>\n",
    "\n",
    "The jth fund manager's mean return equals zero"
   ]
  },
  {
   "cell_type": "code",
   "execution_count": 32,
   "id": "31ba7bce",
   "metadata": {},
   "outputs": [
    {
     "data": {
      "text/plain": [
       "array([0.00620236, 0.91827115, 0.01160098, 0.6005396 , 0.75578151])"
      ]
     },
     "execution_count": 32,
     "metadata": {},
     "output_type": "execute_result"
    }
   ],
   "source": [
    "Fund = load_data(\"Fund\")\n",
    "fund_mini = Fund.iloc[:, :5]\n",
    "fund_mini_pvals = np.empty(5)\n",
    "\n",
    "for i in range(5):\n",
    "    fund_mini_pvals[i] = ttest_1samp(fund_mini.iloc[:, i], 0).pvalue\n",
    "\n",
    "fund_mini_pvals"
   ]
  },
  {
   "cell_type": "markdown",
   "id": "371dd75b",
   "metadata": {},
   "source": [
    "p-vals for managers 1 & 3 are sufficiently low, but however we can't simply reject $H_{0,1}$ and $H_{0,3}$ since this would fail to account for the multiple testing that we have performed. <br>\n",
    "Instead, we will conduct Bonferroni's method and Holm's method to control FWER.\n",
    "\n",
    "To do this, we use multipletests() function from statsmodels. given the pvals for method like Holm and Bonferroni, the function outputs adjusted pvals which can be thought of as a now set of pvals that have been corrected for multiple testing.<br>\n",
    "\n",
    "if the adjusted pval for a given hypothesis is less than or equal to $\\alpha$, then that hypothesis can be rejected while maintaining a FWER of no more than $\\alpha$. <br>\n",
    "In other words, for such methods, the adjusted pvals resulting from the multipletests() method can simply be compared to the desired FWER in order to determine whether or not to rejct each hypothesis. "
   ]
  },
  {
   "cell_type": "markdown",
   "id": "14888ed8",
   "metadata": {},
   "source": [
    "The mult_test() function takes pvals and a method argument, as well as an optional alpha argument. it returns the decisions (reject below) as well as the adjusted pvals (bonf)"
   ]
  },
  {
   "cell_type": "code",
   "execution_count": 34,
   "id": "9b9ad0bc",
   "metadata": {},
   "outputs": [
    {
     "data": {
      "text/plain": [
       "array([ True, False, False, False, False])"
      ]
     },
     "execution_count": 34,
     "metadata": {},
     "output_type": "execute_result"
    }
   ],
   "source": [
    "reject, bonf = mult_test(fund_mini_pvals, method = \"bonferroni\")[:2]\n",
    "\n",
    "reject"
   ]
  },
  {
   "cell_type": "markdown",
   "id": "65c47a86",
   "metadata": {},
   "source": [
    "the adjusted pvals with the bonferroni approach are simply the fund_mini_pvals multiplied by 5 and truncated to be less than or equal to 1."
   ]
  },
  {
   "cell_type": "code",
   "execution_count": 36,
   "id": "98f60295",
   "metadata": {},
   "outputs": [
    {
     "data": {
      "text/plain": [
       "(array([0.03101178, 1.        , 0.05800491, 1.        , 1.        ]),\n",
       " array([0.03101178, 1.        , 0.05800491, 1.        , 1.        ]))"
      ]
     },
     "execution_count": 36,
     "metadata": {},
     "output_type": "execute_result"
    }
   ],
   "source": [
    "bonf, np.minimum(fund_mini_pvals * 5, 1)"
   ]
  },
  {
   "cell_type": "markdown",
   "id": "34362e13",
   "metadata": {},
   "source": [
    "Therefore using the bonferroni's method, we are able to reject the null hypothesis only for manager 1 while controlling FWER at 0.05. <br>\n",
    "\n",
    "By contract, using Holm's method, the adjusted pvals indicatee that we can reject the null hypothesis for managers 1 and 3 at a FWER of 0.05"
   ]
  },
  {
   "cell_type": "code",
   "execution_count": 37,
   "id": "e40685ca",
   "metadata": {},
   "outputs": [
    {
     "data": {
      "text/plain": [
       "(array([ True, False,  True, False, False]),\n",
       " array([0.03101178, 1.        , 0.04640393, 1.        , 1.        ]))"
      ]
     },
     "execution_count": 37,
     "metadata": {},
     "output_type": "execute_result"
    }
   ],
   "source": [
    "mult_test(fund_mini_pvals, method = \"holm\", alpha = .05)[:2]"
   ]
  },
  {
   "cell_type": "markdown",
   "id": "9e2fca3f",
   "metadata": {},
   "source": [
    "# Find differences between statistical units"
   ]
  },
  {
   "cell_type": "markdown",
   "id": "cd2b1b94",
   "metadata": {},
   "source": [
    "is there evidence of a meaningful difference in performance between the two managers? \n",
    "<br> --> Perform a paired t-test using ttest_rel(): "
   ]
  },
  {
   "cell_type": "code",
   "execution_count": 38,
   "id": "fcd6d82d",
   "metadata": {},
   "outputs": [
    {
     "data": {
      "text/plain": [
       "Manager1    3.0\n",
       "Manager2   -0.1\n",
       "Manager3    2.8\n",
       "Manager4    0.5\n",
       "Manager5    0.3\n",
       "dtype: float64"
      ]
     },
     "execution_count": 38,
     "metadata": {},
     "output_type": "execute_result"
    }
   ],
   "source": [
    "fund_mini.mean()"
   ]
  },
  {
   "cell_type": "code",
   "execution_count": 40,
   "id": "e24eaad9",
   "metadata": {},
   "outputs": [
    {
     "data": {
      "text/plain": [
       "0.038391072368079586"
      ]
     },
     "execution_count": 40,
     "metadata": {},
     "output_type": "execute_result"
    }
   ],
   "source": [
    "ttest_rel(fund_mini[\"Manager1\"], fund_mini[\"Manager2\"]).pvalue"
   ]
  },
  {
   "cell_type": "markdown",
   "id": "862ca407",
   "metadata": {},
   "source": [
    "The pval of 0.038 suggests a statistically significant difference. <br>\n",
    "However, we perform the test only after examining the data and noting that managers 1 and 2 had the highest and lowest mean performances.<br>\n",
    "In a sense, this means that we have implicitly performed $\\binom{5}{2} = 5*(5-1)/2 = 10$ Hypothesis tests, rather than just one. <br>\n",
    "\n",
    "Hence, we use the pairwise_tuckeyhsd() function from statsmodels.stat.multicomp to apply fitted anova regression model, which is essentially just a linear regression in which all of the predictors are qualitative.<br>\n",
    "In this case, the response consists of the monthly excess returns achieved by each manager, and the predictor indicates the manager to which each return correponds."
   ]
  },
  {
   "cell_type": "code",
   "execution_count": 42,
   "metadata": {},
   "outputs": [
    {
     "name": "stdout",
     "output_type": "stream",
     "text": [
      "Multiple Comparison of Means - Tukey HSD, FWER=0.05\n",
      "===================================================\n",
      "group1 group2 meandiff p-adj   lower  upper  reject\n",
      "---------------------------------------------------\n",
      "     1      2     -3.1 0.1862 -6.9865 0.7865  False\n",
      "     1      3     -0.2 0.9999 -4.0865 3.6865  False\n",
      "     1      4     -2.5 0.3948 -6.3865 1.3865  False\n",
      "     1      5     -2.7 0.3152 -6.5865 1.1865  False\n",
      "     2      3      2.9 0.2453 -0.9865 6.7865  False\n",
      "     2      4      0.6 0.9932 -3.2865 4.4865  False\n",
      "     2      5      0.4 0.9986 -3.4865 4.2865  False\n",
      "     3      4     -2.3  0.482 -6.1865 1.5865  False\n",
      "     3      5     -2.5 0.3948 -6.3865 1.3865  False\n",
      "     4      5     -0.2 0.9999 -4.0865 3.6865  False\n",
      "---------------------------------------------------\n"
     ]
    }
   ],
   "source": [
    "returns = np.hstack([fund_mini.iloc[:, i] for i in range(5)])\n",
    "managers = np.hstack([[i+1]*50 for i in range(5)])\n",
    "\n",
    "tukey = pairwise_tukeyhsd(returns, managers)\n",
    "print(tukey.summary())"
   ]
  },
  {
   "cell_type": "code",
   "execution_count": 44,
   "id": "7bd5c079",
   "metadata": {},
   "outputs": [
    {
     "data": {
      "text/plain": [
       "((250,), (250,))"
      ]
     },
     "execution_count": 44,
     "metadata": {},
     "output_type": "execute_result"
    }
   ],
   "source": [
    "returns.shape, managers.shape"
   ]
  },
  {
   "cell_type": "markdown",
   "id": "fe82feaa",
   "metadata": {},
   "source": [
    "the pairwise_tukeyhsd() function provides confidence intervals for the difference between each pair of managers (lower and Upper) as well as a pval. all of these quantities have been adjusted for multiple testing. notice that the pval for the difference between managers 1 and 2 has increased from 0.038 to 0.186, so there is no longer clear evidence of a difference between the managers performances. <br>\n",
    "we can plot the confidence intervals fro the pairwise comparisons using the plot_simultaneous() method of tukey. Any pair of intervals that don't overlap indicates a significant difference at the nominal level of 0.05. in this case, no differences are considered significant as reported in the table above."
   ]
  },
  {
   "cell_type": "code",
   "execution_count": 48,
   "id": "9679988f",
   "metadata": {},
   "outputs": [
    {
     "data": {
      "image/png": "[encoded data removed]",
      "text/plain": [
       "<Figure size 1000x600 with 1 Axes>"
      ]
     },
     "metadata": {},
     "output_type": "display_data"
    }
   ],
   "source": [
    "fig, ax = plt.subplots(1,1,figsize=(8,8))\n",
    "\n",
    "tukey.plot_simultaneous(ax = ax)\n",
    "ax.grid();"
   ]
  },
  {
   "cell_type": "code",
   "execution_count": null,
   "id": "f3a85a75",
   "metadata": {},
   "outputs": [],
   "source": []
  },
  {
   "cell_type": "code",
   "execution_count": null,
   "id": "9130a9de",
   "metadata": {},
   "outputs": [],
   "source": []
  },
  {
   "cell_type": "code",
   "execution_count": null,
   "id": "6652b8bb",
   "metadata": {},
   "outputs": [],
   "source": []
  },
  {
   "cell_type": "code",
   "execution_count": null,
   "id": "71bb95db",
   "metadata": {},
   "outputs": [],
   "source": []
  }
 ],
 "metadata": {
  "kernelspec": {
   "display_name": ".venv",
   "language": "python",
   "name": "python3"
  },
  "language_info": {
   "codemirror_mode": {
    "name": "ipython",
    "version": 3
   },
   "file_extension": ".py",
   "mimetype": "text/x-python",
   "name": "python",
   "nbconvert_exporter": "python",
   "pygments_lexer": "ipython3",
   "version": "3.12.2"
  }
 },
 "nbformat": 4,
 "nbformat_minor": 5
}
