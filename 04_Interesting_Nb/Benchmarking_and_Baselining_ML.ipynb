{
 "cells": [
  {
   "cell_type": "code",
   "execution_count": null,
   "id": "4ba2e4ea",
   "metadata": {},
   "outputs": [],
   "source": []
  },
  {
   "cell_type": "code",
   "execution_count": 20,
   "id": "7b5d7edf",
   "metadata": {},
   "outputs": [
    {
     "ename": "ModuleNotFoundError",
     "evalue": "No module named 'pycaret'",
     "output_type": "error",
     "traceback": [
      "\u001b[31m---------------------------------------------------------------------------\u001b[39m",
      "\u001b[31mModuleNotFoundError\u001b[39m                       Traceback (most recent call last)",
      "\u001b[36mCell\u001b[39m\u001b[36m \u001b[39m\u001b[32mIn[20]\u001b[39m\u001b[32m, line 4\u001b[39m\n\u001b[32m      1\u001b[39m \u001b[38;5;28;01mimport\u001b[39;00m\u001b[38;5;250m \u001b[39m\u001b[34;01mpandas\u001b[39;00m\u001b[38;5;250m \u001b[39m\u001b[38;5;28;01mas\u001b[39;00m\u001b[38;5;250m \u001b[39m\u001b[34;01mpd\u001b[39;00m\n\u001b[32m      2\u001b[39m \u001b[38;5;28;01mimport\u001b[39;00m\u001b[38;5;250m \u001b[39m\u001b[34;01mnumpy\u001b[39;00m\u001b[38;5;250m \u001b[39m\u001b[38;5;28;01mas\u001b[39;00m\u001b[38;5;250m \u001b[39m\u001b[34;01mnp\u001b[39;00m\n\u001b[32m----> \u001b[39m\u001b[32m4\u001b[39m \u001b[38;5;28;01mfrom\u001b[39;00m\u001b[38;5;250m \u001b[39m\u001b[34;01mpycaret\u001b[39;00m\u001b[34;01m.\u001b[39;00m\u001b[34;01mclassification\u001b[39;00m\u001b[38;5;250m \u001b[39m\u001b[38;5;28;01mimport\u001b[39;00m *\n",
      "\u001b[31mModuleNotFoundError\u001b[39m: No module named 'pycaret'"
     ]
    }
   ],
   "source": [
    "import pandas as pd\n",
    "import numpy as np\n",
    "\n",
    "from pycaret.classification import *"
   ]
  },
  {
   "cell_type": "markdown",
   "id": "514d249c",
   "metadata": {},
   "source": [
    "<a href=\"https://pub.towardsai.net/what-are-baseline-models-and-benchmarking-for-machine-learning-why-we-need-them-affe0714cd07\"> Link </a>"
   ]
  },
  {
   "cell_type": "markdown",
   "id": "c98cd271",
   "metadata": {},
   "source": [
    "This notebook focuses on the methodology to use baseline models as a starting point & reference in machine learning for further model development.<br>\n",
    "In general, this reference point is important in the data science process to explain how the developed models perform (good or bad) and the baseline model's score serves as threshold for this evaluation.<br>\n",
    "\n",
    "There are 3 types of baseline models:\n",
    "1) Random Baseline Models \n",
    "2) ML Baseline Models \n",
    "3) Automated ML Baseline Models\n",
    "\n",
    "---"
   ]
  },
  {
   "cell_type": "markdown",
   "id": "5df79737",
   "metadata": {},
   "source": [
    "## 1. Random Baseline Models"
   ]
  },
  {
   "cell_type": "markdown",
   "id": "bc6ebd50",
   "metadata": {},
   "source": [
    "If data is not predictable, the best baseline model is a dummy classifier or dummy regressor.<br>\n",
    "This way, in comparison to the baseline model, it's possible to evaluate the performance of the developed model."
   ]
  },
  {
   "cell_type": "code",
   "execution_count": 3,
   "id": "804957e7",
   "metadata": {},
   "outputs": [],
   "source": [
    "np.random.seed(0)\n",
    "\n",
    "random_dim = (1000, 3)\n",
    "random_X = np.random.random(random_dim)\n",
    "random_reg_y = np.random.randint(random_dim[1], size = random_dim[0])"
   ]
  },
  {
   "cell_type": "code",
   "execution_count": 16,
   "id": "ab276fa2",
   "metadata": {},
   "outputs": [],
   "source": [
    "train_clf = np.concatenate([random_X, random_reg_y.reshape(random_dim[0], 1)], axis = 1)\n",
    "col_list = [str(i+1) for i in range(random_dim[1])]\n",
    "col_list.append(\"target\")\n",
    "\n",
    "train_clf = pd.DataFrame(train_clf, columns = col_list)\n",
    "\n",
    "train_clf[\"target\"] = train_clf[\"target\"].astype(\"str\")"
   ]
  },
  {
   "cell_type": "code",
   "execution_count": 19,
   "id": "5e5a8f33",
   "metadata": {},
   "outputs": [
    {
     "data": {
      "text/html": [
       "<div>\n",
       "<style scoped>\n",
       "    .dataframe tbody tr th:only-of-type {\n",
       "        vertical-align: middle;\n",
       "    }\n",
       "\n",
       "    .dataframe tbody tr th {\n",
       "        vertical-align: top;\n",
       "    }\n",
       "\n",
       "    .dataframe thead th {\n",
       "        text-align: right;\n",
       "    }\n",
       "</style>\n",
       "<table border=\"1\" class=\"dataframe\">\n",
       "  <thead>\n",
       "    <tr style=\"text-align: right;\">\n",
       "      <th></th>\n",
       "      <th>1</th>\n",
       "      <th>2</th>\n",
       "      <th>3</th>\n",
       "      <th>target</th>\n",
       "    </tr>\n",
       "  </thead>\n",
       "  <tbody>\n",
       "    <tr>\n",
       "      <th>831</th>\n",
       "      <td>0.377430</td>\n",
       "      <td>0.670239</td>\n",
       "      <td>0.471664</td>\n",
       "      <td>2.0</td>\n",
       "    </tr>\n",
       "    <tr>\n",
       "      <th>394</th>\n",
       "      <td>0.664666</td>\n",
       "      <td>0.423054</td>\n",
       "      <td>0.198991</td>\n",
       "      <td>0.0</td>\n",
       "    </tr>\n",
       "    <tr>\n",
       "      <th>954</th>\n",
       "      <td>0.309050</td>\n",
       "      <td>0.069587</td>\n",
       "      <td>0.365474</td>\n",
       "      <td>0.0</td>\n",
       "    </tr>\n",
       "    <tr>\n",
       "      <th>696</th>\n",
       "      <td>0.705307</td>\n",
       "      <td>0.365676</td>\n",
       "      <td>0.395411</td>\n",
       "      <td>1.0</td>\n",
       "    </tr>\n",
       "    <tr>\n",
       "      <th>489</th>\n",
       "      <td>0.196451</td>\n",
       "      <td>0.671528</td>\n",
       "      <td>0.842973</td>\n",
       "      <td>2.0</td>\n",
       "    </tr>\n",
       "  </tbody>\n",
       "</table>\n",
       "</div>"
      ],
      "text/plain": [
       "            1         2         3 target\n",
       "831  0.377430  0.670239  0.471664    2.0\n",
       "394  0.664666  0.423054  0.198991    0.0\n",
       "954  0.309050  0.069587  0.365474    0.0\n",
       "696  0.705307  0.365676  0.395411    1.0\n",
       "489  0.196451  0.671528  0.842973    2.0"
      ]
     },
     "execution_count": 19,
     "metadata": {},
     "output_type": "execute_result"
    }
   ],
   "source": [
    "train_clf.sample(5)"
   ]
  },
  {
   "cell_type": "code",
   "execution_count": null,
   "id": "1e9d56bf",
   "metadata": {},
   "outputs": [],
   "source": []
  },
  {
   "cell_type": "code",
   "execution_count": null,
   "id": "c11bb597",
   "metadata": {},
   "outputs": [],
   "source": []
  },
  {
   "cell_type": "code",
   "execution_count": null,
   "id": "bb8a8af1",
   "metadata": {},
   "outputs": [],
   "source": []
  },
  {
   "cell_type": "code",
   "execution_count": null,
   "id": "83a056ea",
   "metadata": {},
   "outputs": [],
   "source": []
  },
  {
   "cell_type": "code",
   "execution_count": null,
   "id": "f16c94cf",
   "metadata": {},
   "outputs": [],
   "source": []
  }
 ],
 "metadata": {
  "kernelspec": {
   "display_name": ".venv",
   "language": "python",
   "name": "python3"
  },
  "language_info": {
   "codemirror_mode": {
    "name": "ipython",
    "version": 3
   },
   "file_extension": ".py",
   "mimetype": "text/x-python",
   "name": "python",
   "nbconvert_exporter": "python",
   "pygments_lexer": "ipython3",
   "version": "3.12.2"
  }
 },
 "nbformat": 4,
 "nbformat_minor": 5
}
