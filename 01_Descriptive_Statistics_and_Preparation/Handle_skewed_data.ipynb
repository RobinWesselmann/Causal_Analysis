{
 "cells": [
  {
   "cell_type": "markdown",
   "id": "dbcf4078",
   "metadata": {},
   "source": [
    "## Introduction \n",
    "This notebook subsumes the information of <a href=\"https://medium.com/@lamunozs/dealing-with-skewed-data-a-practical-guide-part-i-394f725092cb\"> this informative medium article</a>"
   ]
  },
  {
   "cell_type": "markdown",
   "id": "df672098",
   "metadata": {},
   "source": [
    "## import libraries"
   ]
  },
  {
   "cell_type": "markdown",
   "id": "c037c40d",
   "metadata": {},
   "source": []
  },
  {
   "cell_type": "code",
   "execution_count": null,
   "id": "f0c9a7d5",
   "metadata": {
    "vscode": {
     "languageId": "plaintext"
    }
   },
   "outputs": [],
   "source": []
  },
  {
   "cell_type": "code",
   "execution_count": null,
   "id": "b803bc34",
   "metadata": {
    "vscode": {
     "languageId": "plaintext"
    }
   },
   "outputs": [],
   "source": []
  },
  {
   "cell_type": "code",
   "execution_count": null,
   "id": "a37f9a0d",
   "metadata": {
    "vscode": {
     "languageId": "plaintext"
    }
   },
   "outputs": [],
   "source": []
  },
  {
   "cell_type": "code",
   "execution_count": null,
   "id": "6ccc62dc",
   "metadata": {
    "vscode": {
     "languageId": "plaintext"
    }
   },
   "outputs": [],
   "source": []
  },
  {
   "cell_type": "code",
   "execution_count": null,
   "id": "20baeb79",
   "metadata": {
    "vscode": {
     "languageId": "plaintext"
    }
   },
   "outputs": [],
   "source": []
  }
 ],
 "metadata": {
  "language_info": {
   "name": "python"
  }
 },
 "nbformat": 4,
 "nbformat_minor": 5
}
